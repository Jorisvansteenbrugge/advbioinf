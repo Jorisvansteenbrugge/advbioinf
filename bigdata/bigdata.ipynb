{
 "cells": [
  {
   "cell_type": "code",
   "execution_count": 6,
   "metadata": {
    "collapsed": false
   },
   "outputs": [
    {
     "name": "stdout",
     "output_type": "stream",
     "text": [
      "[(u'species', 1), (u'Issoria lathonia', 36), (u'Asio flammeus', 320), (u'Aricia agestis', 432), (u'Thymelicus sylvestris', 617), (u'Streptopelia turtur', 669), (u'Favonius quercus', 744), (u'Dendrocopos medius', 925), (u'Hesperia comma', 977), (u'Melitaea athalia', 1066)]\n"
     ]
    }
   ],
   "source": [
    "import pyspark\n",
    "import pprint \n",
    "from numpy import array\n",
    "from math import sqrt\n",
    "\n",
    "from pyspark.mllib.clustering import KMeans, KMeansModel\n",
    "\n",
    "\n",
    "\n",
    "pp = pprint.PrettyPrinter(indent=2)\n",
    "\n",
    "def getRDD(fileName):\n",
    "    rdd = sc.textFile(fileName)\n",
    "    cols = rdd.map(lambda line: line.split(','))\n",
    "    \n",
    "    return cols\n",
    "\n",
    "def getSpeciesCount(rdd):\n",
    "    pp.pprint(rdd[0])\n",
    "    \n",
    "def countSpecies(rdd):\n",
    "    pairs = rdd.map(lambda a: (a,1))\n",
    "    counts = pairs.reduceByKey(lambda x,y: x+y)\n",
    "    print(counts.takeOrdered(10, key=lambda p: p[-1]))\n",
    "    \n",
    "def getYears(rdd):\n",
    "    dates = [x[6].split(\"-\")[0] for x in rdd.collect() if len(x[6].split(\"-\"))== 3 ]\n",
    "    return list(set(dates))\n",
    "\n",
    "def cluster(rdd):\n",
    "    pass\n",
    "    \n",
    "if __name__ == \"__main__\":\n",
    "    cols = getRDD('/home/WUR/steen176/Downloads/butterflies.csv')\n",
    "    \n",
    "    \n",
    "    birds = cols.filter(lambda x: True if x[2] == u\"1\" else False)\n",
    "    butterflies = cols.filter(lambda x: True if x[2] == u\"4\" else False)\n",
    "    \n",
    "    countSpecies(species)\n",
    "    #year_list = getYears(cols)\n",
    "    #print(year_list)\n",
    "    \n",
    "    \n",
    "\n",
    "\n"
   ]
  },
  {
   "cell_type": "markdown",
   "metadata": {},
   "source": [
    "# main Stuff"
   ]
  },
  {
   "cell_type": "code",
   "execution_count": 62,
   "metadata": {
    "collapsed": false,
    "scrolled": false
   },
   "outputs": [
    {
     "name": "stdout",
     "output_type": "stream",
     "text": [
      "[['Polygonia c-album', u'Ochlodes sylvanus', (6.0974, 52.392)], ['Polygonia c-album', u'Pieris napi', (6.0963, 52.3918)], ['Polygonia c-album', u'Aglais io', (6.0965, 52.3918)], ['Polygonia c-album', u'Aphantopus hyperantus', (6.0966, 52.392)], ['Polygonia c-album', u'Aglais io', (6.0979, 52.3922)], ['Polygonia c-album', u'Vanessa atalanta', (6.0979, 52.3922)], ['Polygonia c-album', u'Aglais urticae', (6.0974, 52.392)]]\n"
     ]
    }
   ],
   "source": [
    "from pyspark.mllib.clustering import KMeans, KMeansModel\n",
    "from pyspark.mllib.linalg import DenseVector\n",
    "from pyspark.mllib.linalg import SparseVector\n",
    "from itertools import permutations\n",
    "from numpy import array\n",
    "import re\n",
    "import numpy\n",
    "from math import sqrt\n",
    "\n",
    "NUM_CLUSTER = 4\n",
    "\n",
    "\n",
    "data=sc.textFile(\"/home/WUR/steen176/Downloads/test.dat\")\n",
    "\n",
    "months = {'01':\"winter\",\n",
    "          '02':'winter',\n",
    "          '03':\"winter\",\n",
    "          '04':\"spring\",\n",
    "          '05':'spring',\n",
    "          '06':\"spring\",\n",
    "          '07':'summer',\n",
    "          '08':\"summer\",\n",
    "          '09':\"summer\",\n",
    "          '10':'autum',\n",
    "          '11':'autum',\n",
    "          '12': 'autum'} \n",
    "\n",
    "    #print(clusters.predict(array([5.9737, 52.4066])))\n",
    "    \n",
    "    \n",
    "top10 = countSpecies(species_to_count)\n",
    "top10 = [\"Polygonia c-album\"]\n",
    "for i in ['summer',\"winter\", 'autum', 'spring']:\n",
    "    stagione = i\n",
    "    current_season = data.filter(lambda line: selectSeason(line))\n",
    "    species = current_season.map(lambda x: x.split(',')[0]).collect()\n",
    "    \n",
    "    centers = {}\n",
    "\n",
    "    species_to_count = current_season.map(lambda x: x.split(',')[0])\n",
    "    \n",
    "    \n",
    "    \n",
    "    \n",
    "        \n",
    "    for specie in species:\n",
    "        current_specie = current_season.filter(lambda line: selectSpecies(line))\n",
    "        centers[specie] = cluster(current_specie).clusterCenters\n",
    "        \n",
    "    print compareCenters(top10, centers)\n",
    "        \n",
    "    break\n",
    "        \n",
    "        \n",
    "            \n",
    "\n",
    "\n",
    "        \n",
    "\n",
    "    "
   ]
  },
  {
   "cell_type": "markdown",
   "metadata": {},
   "source": [
    "# Clustering"
   ]
  },
  {
   "cell_type": "code",
   "execution_count": 47,
   "metadata": {
    "collapsed": false
   },
   "outputs": [],
   "source": [
    "def parseline(line):\n",
    "    line = line.split(',')\n",
    "    longti = float(line[8])\n",
    "    latti = float(line[9])\n",
    "    s_vec = SparseVector(2, [[0, longti], [1, latti]])\n",
    "    return s_vec\n",
    "def cluster(data):\n",
    "    parsedData = data.map(lambda line: parseline(line))\n",
    "    clusters = KMeans.train(parsedData, NUM_CLUSTER, maxIterations=20, runs=100, initializationMode=\"random\")\n",
    "    return clusters\n",
    "\n",
    "\n",
    "    \n",
    "def error(point):\n",
    "    center = clusters.centers[clusters.predict(point)]\n",
    "    denseCenter = DenseVector(numpy.ndarray.tolist(center))\n",
    "    return sqrt(sum([x**2 for x in (DenseVector(point.toArray()) - denseCenter)]))\n",
    "\n",
    "    WSSSE = parsedData.map(lambda point: error(point)).reduce(lambda x, y: x + y)\n",
    "    print(WSSSE)"
   ]
  },
  {
   "cell_type": "markdown",
   "metadata": {},
   "source": [
    "# Utility"
   ]
  },
  {
   "cell_type": "code",
   "execution_count": 46,
   "metadata": {
    "collapsed": true
   },
   "outputs": [],
   "source": [
    "def getSpeciesCount(rdd):\n",
    "    pp.pprint(rdd[0])\n",
    "    \n",
    "def selectSeason(line):\n",
    "    line = line.split(',')\n",
    "    month = line[6].split('-')[1]\n",
    "    if months[month] == stagione:\n",
    "        return True\n",
    "    else:\n",
    "        return False\n",
    "    \n",
    "\n",
    "def selectSpecies(line):\n",
    "    line = line.split(',')\n",
    "    org = line[0]\n",
    "    if specie == org:\n",
    "        return True\n",
    "    else:\n",
    "        return False\n",
    "\n",
    "    \n",
    "def countSpecies(rdd):    \n",
    "    pairs = rdd.map(lambda a: (a,1))\n",
    "    counts = pairs.reduceByKey(lambda x,y: x+y)\n",
    "    return counts.takeOrdered(10, key=lambda p: p[-1])"
   ]
  },
  {
   "cell_type": "markdown",
   "metadata": {},
   "source": [
    "# Comparing cluster"
   ]
  },
  {
   "cell_type": "code",
   "execution_count": 61,
   "metadata": {
    "collapsed": false
   },
   "outputs": [],
   "source": [
    "def centerdiffs(centerA, centerB):\n",
    "    \n",
    "    longA = centerA[0]\n",
    "    longB = centerB[0]\n",
    "    lattA = centerA[1]\n",
    "    lattB = centerB[1]\n",
    "    \n",
    "    longDiff = numpy.subtract(longA, longB)\n",
    "    lattDiff = numpy.subtract(lattA, lattB)\n",
    "    \n",
    "    if longDiff < 0.03 and lattDiff < 0.03:\n",
    "        return True\n",
    "    else:\n",
    "        return False\n",
    "    \n",
    "def compareCenters(top10, centers):\n",
    "    cohabit = []\n",
    "    for rare_specie in top10:\n",
    "        try:\n",
    "            rest_keys = centers.keys()\n",
    "            rest_keys.remove(rare_specie)\n",
    "            rare_centers = centers[rare_specie]\n",
    "            \n",
    "            for rest_value in rest_keys:\n",
    "                other = centers[rest_value]\n",
    "                for center in rare_centers:\n",
    "                    for oth in other:\n",
    "                        if centerdiffs(center,oth):\n",
    "                            cohabit.append([rare_specie, rest_value, tuple(oth.tolist())])\n",
    "        except KeyError:\n",
    "            continue\n",
    "        except ValueError:\n",
    "            pass\n",
    "    return [list(i) for i in set(map(tuple, cohabit))]"
   ]
  }
 ],
 "metadata": {
  "kernelspec": {
   "display_name": "Python 2",
   "language": "python",
   "name": "python2"
  },
  "language_info": {
   "codemirror_mode": {
    "name": "ipython",
    "version": 2
   },
   "file_extension": ".py",
   "mimetype": "text/x-python",
   "name": "python",
   "nbconvert_exporter": "python",
   "pygments_lexer": "ipython2",
   "version": "2.7.6"
  }
 },
 "nbformat": 4,
 "nbformat_minor": 1
}
