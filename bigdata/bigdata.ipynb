{
 "cells": [
  {
   "cell_type": "markdown",
   "metadata": {},
   "source": [
    "# main Stuff"
   ]
  },
  {
   "cell_type": "code",
   "execution_count": 100,
   "metadata": {
    "collapsed": false,
    "scrolled": false
   },
   "outputs": [
    {
     "name": "stdout",
     "output_type": "stream",
     "text": [
      "[(u'Aglais urticae', 1), (u'Polygonia c-album', 1), (u'Pieris napi', 1), (u'Ochlodes sylvanus', 1), (u'Aphantopus hyperantus', 1), (u'Vanessa atalanta', 1), (u'Aglais io', 2)]\n",
      "1\n"
     ]
    },
    {
     "ename": "TypeError",
     "evalue": "'list' object is not callable",
     "output_type": "error",
     "traceback": [
      "\u001b[0;31m---------------------------------------------------------------------------\u001b[0m",
      "\u001b[0;31mTypeError\u001b[0m                                 Traceback (most recent call last)",
      "\u001b[0;32m<ipython-input-100-3a677b793358>\u001b[0m in \u001b[0;36m<module>\u001b[0;34m()\u001b[0m\n\u001b[1;32m     32\u001b[0m             \u001b[0mcurrent_specie\u001b[0m \u001b[0;34m=\u001b[0m \u001b[0mcurrent_season\u001b[0m\u001b[0;34m.\u001b[0m\u001b[0mfilter\u001b[0m\u001b[0;34m(\u001b[0m\u001b[0;32mlambda\u001b[0m \u001b[0mline\u001b[0m\u001b[0;34m:\u001b[0m \u001b[0mselectSpecies\u001b[0m\u001b[0;34m(\u001b[0m\u001b[0mline\u001b[0m\u001b[0;34m)\u001b[0m\u001b[0;34m)\u001b[0m\u001b[0;34m\u001b[0m\u001b[0m\n\u001b[1;32m     33\u001b[0m             \u001b[0;32mprint\u001b[0m\u001b[0;34m(\u001b[0m\u001b[0mcurrent_specie\u001b[0m\u001b[0;34m.\u001b[0m\u001b[0mcount\u001b[0m\u001b[0;34m(\u001b[0m\u001b[0;34m)\u001b[0m\u001b[0;34m)\u001b[0m\u001b[0;34m\u001b[0m\u001b[0m\n\u001b[0;32m---> 34\u001b[0;31m             \u001b[0mcenters\u001b[0m\u001b[0;34m[\u001b[0m\u001b[0mspecie\u001b[0m\u001b[0;34m]\u001b[0m \u001b[0;34m=\u001b[0m \u001b[0mcluster\u001b[0m\u001b[0;34m(\u001b[0m\u001b[0mcurrent_specie\u001b[0m\u001b[0;34m)\u001b[0m\u001b[0;34m.\u001b[0m\u001b[0mclusterCenters\u001b[0m\u001b[0;34m(\u001b[0m\u001b[0;34m)\u001b[0m\u001b[0;34m\u001b[0m\u001b[0m\n\u001b[0m\u001b[1;32m     35\u001b[0m \u001b[0;34m\u001b[0m\u001b[0m\n\u001b[1;32m     36\u001b[0m         \u001b[0;32mprint\u001b[0m\u001b[0;34m(\u001b[0m\u001b[0mcompareCenters\u001b[0m\u001b[0;34m(\u001b[0m\u001b[0mtop10\u001b[0m\u001b[0;34m,\u001b[0m \u001b[0mcenters\u001b[0m\u001b[0;34m)\u001b[0m\u001b[0;34m)\u001b[0m\u001b[0;34m\u001b[0m\u001b[0m\n",
      "\u001b[0;31mTypeError\u001b[0m: 'list' object is not callable"
     ]
    }
   ],
   "source": [
    "MONTHS = {'01':\"winter\",\n",
    "          '02':'winter',\n",
    "          '03':\"winter\",\n",
    "          '04':\"spring\",\n",
    "          '05':'spring',\n",
    "          '06':\"spring\",\n",
    "          '07':'summer',\n",
    "          '08':\"summer\",\n",
    "          '09':\"summer\",\n",
    "          '10':'autum',\n",
    "          '11':'autum',\n",
    "          '12': 'autum'} \n",
    "\n",
    "    #print(clusters.predict(array([5.9737, 52.4066])))\n",
    "\n",
    "#testing \"top10\"\n",
    "top10 = [\"Polygonia c-album\"]\n",
    "\n",
    "if __name__ == \"__main__\":\n",
    "    data = sc.textFile(\"/home/WUR/steen176/Downloads/test.dat\")\n",
    "    corrected = data.map(lambda line: correctLine(line))\n",
    "    for stagione in ['summer',\"winter\", 'autum', 'spring']:\n",
    "        current_season = corrected.filter(lambda line: selectSeason(line))\n",
    "    \n",
    "        #turned of for testing purposes\n",
    "        top10 = getRareSpecies(current_season)\n",
    "        print(top10)\n",
    "        species = current_season.map(lambda x: x.split(',')[0]).collect()\n",
    "        \n",
    "        centers = {}\n",
    "        for specie in species:\n",
    "            current_specie = current_season.filter(lambda line: selectSpecies(line))\n",
    "            print(current_specie.count())\n",
    "            centers[specie] = cluster(current_specie).clusterCenters()\n",
    "            \n",
    "        print(compareCenters(top10, centers))\n",
    "        \n",
    "      \n",
    "        \n",
    "        \n",
    "    \n",
    "            "
   ]
  },
  {
   "cell_type": "markdown",
   "metadata": {},
   "source": [
    "# Clustering\n",
    "Methods including clustering and pre-processing "
   ]
  },
  {
   "cell_type": "code",
   "execution_count": 87,
   "metadata": {
    "collapsed": false
   },
   "outputs": [],
   "source": [
    "from pyspark.mllib.clustering import KMeans, KMeansModel\n",
    "from pyspark.mllib.linalg import SparseVector\n",
    "from math import sqrt\n",
    "NUM_CLUSTER = 4\n",
    "\n",
    "def parseline(line):\n",
    "    line = line.split(',')\n",
    "    longti = float(line[8])\n",
    "    latti = float(line[9])\n",
    "    s_vec = SparseVector(2, [[0, longti], [1, latti]])\n",
    "    return s_vec\n",
    "\n",
    "def cluster(data):\n",
    "    parsedData = data.map(lambda line: parseline(line))\n",
    "    clusters = KMeans.train(parsedData, NUM_CLUSTER, maxIterations=20, runs=100, initializationMode=\"random\")\n",
    "    return clusters\n",
    "\n",
    "def splitSeasons():\n",
    "    pass\n",
    "    \n",
    "def error(point):\n",
    "    center = clusters.centers[clusters.predict(point)]\n",
    "    denseCenter = DenseVector(numpy.ndarray.tolist(center))\n",
    "    return sqrt(sum([x**2 for x in (DenseVector(point.toArray()) - denseCenter)]))\n",
    "\n",
    "    WSSSE = parsedData.map(lambda point: error(point)).reduce(lambda x, y: x + y)\n",
    "    print(WSSSE)"
   ]
  },
  {
   "cell_type": "markdown",
   "metadata": {},
   "source": [
    "# Utility"
   ]
  },
  {
   "cell_type": "code",
   "execution_count": 75,
   "metadata": {
    "collapsed": true
   },
   "outputs": [],
   "source": [
    "def getSpeciesCount(rdd):\n",
    "    pp.pprint(rdd[0])\n",
    "    \n",
    "def correctLine(line):\n",
    "    line = line.split(',')\n",
    "    if len(line) != 10:\n",
    "        return ','.join(line[0:4] + [\" \".join(line[4:6])]+ line[6:])\n",
    "    else:\n",
    "        return ','.join(line)\n",
    "def selectSeason(line):\n",
    "    line = line.split(',')\n",
    "    month = line[6].split('-')[1]\n",
    "    if MONTHS[month] == stagione:\n",
    "        return True\n",
    "    else:\n",
    "        return False\n",
    "    \n",
    "def getRareSpecies(species):\n",
    "    species_to_count = species.map(lambda x: x.split(',')[0])\n",
    "    return countSpecies(species_to_count)\n",
    "    \n",
    "    \n",
    "def selectSpecies(line):\n",
    "    line = line.split(',')\n",
    "    org = line[0]\n",
    "    if specie == org:\n",
    "        return True\n",
    "    else:\n",
    "        return False\n",
    "\n",
    "def countSpecies(rdd):    \n",
    "    pairs = rdd.map(lambda a: (a,1))\n",
    "    counts = pairs.reduceByKey(lambda x,y: x+y)\n",
    "    return counts.takeOrdered(10, key=lambda p: p[-1])"
   ]
  },
  {
   "cell_type": "markdown",
   "metadata": {},
   "source": [
    "# Comparing clusters"
   ]
  },
  {
   "cell_type": "code",
   "execution_count": 89,
   "metadata": {
    "collapsed": false
   },
   "outputs": [],
   "source": [
    "import numpy\n",
    "def centerdiffs(centerA, centerB):\n",
    "    \n",
    "    longA = centerA[0]\n",
    "    longB = centerB[0]\n",
    "    lattA = centerA[1]\n",
    "    lattB = centerB[1]\n",
    "    \n",
    "    longDiff = numpy.subtract(longA, longB)\n",
    "    lattDiff = numpy.subtract(lattA, lattB)\n",
    "    \n",
    "    if longDiff < 0.03 and lattDiff < 0.03:\n",
    "        return True\n",
    "    else:\n",
    "        return False\n",
    "    \n",
    "def compareCenters(top10, centers):\n",
    "    cohabit = []\n",
    "    for rare_specie in top10:\n",
    "        try:\n",
    "            rest_keys = centers.keys()\n",
    "            rest_keys.remove(rare_specie)\n",
    "            rare_centers = centers[rare_specie]\n",
    "            \n",
    "            for rest_value in rest_keys:\n",
    "                other = centers[rest_value]\n",
    "                for center in rare_centers:\n",
    "                    for oth in other:\n",
    "                        if centerdiffs(center,oth):\n",
    "                            cohabit.append([rare_specie, rest_value, tuple(oth.tolist())])\n",
    "        except KeyError:\n",
    "            continue\n",
    "        except ValueError:\n",
    "            pass\n",
    "    return [list(i) for i in set(map(tuple, cohabit))]"
   ]
  },
  {
   "cell_type": "markdown",
   "metadata": {},
   "source": [
    "# Old stuff\n",
    "We can ignore this but some parts might be usefull for development"
   ]
  },
  {
   "cell_type": "code",
   "execution_count": null,
   "metadata": {
    "collapsed": true
   },
   "outputs": [],
   "source": [
    "import pyspark\n",
    "import pprint \n",
    "from numpy import array\n",
    "from math import sqrt\n",
    "\n",
    "from pyspark.mllib.clustering import KMeans, KMeansModel\n",
    "\n",
    "\n",
    "\n",
    "pp = pprint.PrettyPrinter(indent=2)\n",
    "\n",
    "def getRDD(fileName):\n",
    "    rdd = sc.textFile(fileName)\n",
    "    cols = rdd.map(lambda line: line.split(','))\n",
    "    \n",
    "    return cols\n",
    "\n",
    "def getSpeciesCount(rdd):\n",
    "    pp.pprint(rdd[0])\n",
    "    \n",
    "def countSpecies(rdd):\n",
    "    pairs = rdd.map(lambda a: (a,1))\n",
    "    counts = pairs.reduceByKey(lambda x,y: x+y)\n",
    "    print(counts.takeOrdered(10, key=lambda p: p[-1]))\n",
    "    \n",
    "def getYears(rdd):\n",
    "    dates = [x[6].split(\"-\")[0] for x in rdd.collect() if len(x[6].split(\"-\"))== 3 ]\n",
    "    return list(set(dates))\n",
    "\n",
    "def cluster(rdd):\n",
    "    pass\n",
    "    \n",
    "if __name__ == \"__main__\":\n",
    "    cols = getRDD('/home/WUR/steen176/Downloads/butterflies.csv')\n",
    "    \n",
    "    \n",
    "    birds = cols.filter(lambda x: True if x[2] == u\"1\" else False)\n",
    "    butterflies = cols.filter(lambda x: True if x[2] == u\"4\" else False)\n",
    "    \n",
    "    countSpecies(species)\n",
    "    #year_list = getYears(cols)\n",
    "    #print(year_list)\n",
    "    "
   ]
  }
 ],
 "metadata": {
  "kernelspec": {
   "display_name": "Python 2",
   "language": "python",
   "name": "python2"
  },
  "language_info": {
   "codemirror_mode": {
    "name": "ipython",
    "version": 2
   },
   "file_extension": ".py",
   "mimetype": "text/x-python",
   "name": "python",
   "nbconvert_exporter": "python",
   "pygments_lexer": "ipython2",
   "version": "2.7.6"
  }
 },
 "nbformat": 4,
 "nbformat_minor": 1
}
