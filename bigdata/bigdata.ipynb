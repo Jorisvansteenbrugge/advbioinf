{
 "cells": [
  {
   "cell_type": "code",
   "execution_count": 8,
   "metadata": {
    "collapsed": false
   },
   "outputs": [
    {
     "name": "stdout",
     "output_type": "stream",
     "text": [
      "[(u'species', 1), (u'Issoria lathonia', 36), (u'Asio flammeus', 320), (u'Aricia agestis', 432), (u'Thymelicus sylvestris', 617), (u'Streptopelia turtur', 669), (u'Favonius quercus', 744), (u'Dendrocopos medius', 925), (u'Hesperia comma', 977), (u'Melitaea athalia', 1066)]\n"
     ]
    }
   ],
   "source": [
    "import pyspark\n",
    "import pprint \n",
    "from numpy import array\n",
    "from math import sqrt\n",
    "\n",
    "from pyspark.mllib.clustering import KMeans, KMeansModel\n",
    "\n",
    "\n",
    "\n",
    "pp = pprint.PrettyPrinter(indent=2)\n",
    "\n",
    "def getRDD(fileName):\n",
    "    rdd = sc.textFile(fileName)\n",
    "    cols = rdd.map(lambda line: line.split(','))\n",
    "    \n",
    "    return cols\n",
    "\n",
    "def getSpeciesCount(rdd):\n",
    "    pp.pprint(rdd[0])\n",
    "    \n",
    "def countSpecies(rdd):\n",
    "    pairs = rdd.map(lambda a: (a,1))\n",
    "    counts = pairs.reduceByKey(lambda x,y: x+y)\n",
    "    print(counts.takeOrdered(10, key=lambda p: p[-1]))\n",
    "    \n",
    "def getYears(rdd):\n",
    "    dates = [x[6].split(\"-\")[0] for x in rdd.collect() if len(x[6].split(\"-\"))== 3 ]\n",
    "    return list(set(dates))\n",
    "\n",
    "def cluster(rdd):\n",
    "    pass\n",
    "    \n",
    "if __name__ == \"__main__\":\n",
    "    cols = getRDD('/home/WUR/steen176/Downloads/butterflies.csv')\n",
    "    \n",
    "    species = cols.map(lambda x: x[0])\n",
    "    birds = cols.filter(lambda x: True if x[2] == u\"1\" else False)\n",
    "    butterflies = cols.filter(lambda x: True if x[2] == u\"4\" else False)\n",
    "    \n",
    "    countSpecies(species)\n",
    "    #year_list = getYears(cols)\n",
    "    #print(year_list)\n",
    "    \n",
    "    \n",
    "\n",
    "\n"
   ]
  },
  {
   "cell_type": "code",
   "execution_count": 114,
   "metadata": {
    "collapsed": false,
    "scrolled": true
   },
   "outputs": [
    {
     "name": "stdout",
     "output_type": "stream",
     "text": [
      "108993.352881\n",
      "1.15190214839\n",
      "1\n"
     ]
    }
   ],
   "source": [
    "from pyspark.mllib.clustering import KMeans, KMeansModel\n",
    "from pyspark.mllib.linalg import DenseVector\n",
    "from pyspark.mllib.linalg import SparseVector\n",
    "from numpy import array\n",
    "import re\n",
    "import numpy\n",
    "from math import sqrt\n",
    "\n",
    "NUM_CLUSTER = 4\n",
    "\n",
    "data=sc.textFile(\"/home/WUR/steen176/Downloads/test.dat\")\n",
    "\n",
    "months = {1:\"winter\",\n",
    "          2:'winter',\n",
    "          3:\"winter\",\n",
    "          4:\"spring\",\n",
    "          5:'spring',\n",
    "          6:\"spring\",\n",
    "          7:'summer',\n",
    "          8:\"summer\",\n",
    "          9:\"summer\",\n",
    "          10:'autum',\n",
    "          11:'autum',\n",
    "          12:\"autum\"}\n",
    "\n",
    "def parseline(line):\n",
    "    line = line.split(',')\n",
    "    longti = float(line[8])\n",
    "    latti = float(line[9])\n",
    "    s_vec = SparseVector(2, [[0, longti], [1, latti]])\n",
    "    return s_vec \n",
    "\n",
    "\n",
    "def getVar(line):\n",
    "    line = line.split(',')\n",
    "    return float(line[8]) - float(line[9])\n",
    "\n",
    "parsedData = data.map(lambda line: parseline(line))\n",
    "var = data.map(lambda line: getVar(line))\n",
    "var = var.toLocalIterator()\n",
    "var = [x for x in content]\n",
    "\n",
    "num_clusters = (len(var)-1)* sum(var) *-1\n",
    "\n",
    "clusters = KMeans.train(parsedData, NUM_CLUSTER, maxIterations=20, runs=100, initializationMode=\"random\")\n",
    "\n",
    "def error(point):\n",
    "    center = clusters.centers[clusters.predict(point)]\n",
    "    denseCenter = DenseVector(numpy.ndarray.tolist(center))\n",
    "    return sqrt(sum([x**2 for x in (DenseVector(point.toArray()) - denseCenter)]))\n",
    "\n",
    "WSSSE = parsedData.map(lambda point: error(point)).reduce(lambda x, y: x + y)\n",
    "print(WSSSE)\n",
    "print(clusters.predict(array([5.9737, 52.4066])))\n"
   ]
  }
 ],
 "metadata": {
  "kernelspec": {
   "display_name": "Python 2",
   "language": "python",
   "name": "python2"
  },
  "language_info": {
   "codemirror_mode": {
    "name": "ipython",
    "version": 2
   },
   "file_extension": ".py",
   "mimetype": "text/x-python",
   "name": "python",
   "nbconvert_exporter": "python",
   "pygments_lexer": "ipython2",
   "version": "2.7.6"
  }
 },
 "nbformat": 4,
 "nbformat_minor": 1
}
